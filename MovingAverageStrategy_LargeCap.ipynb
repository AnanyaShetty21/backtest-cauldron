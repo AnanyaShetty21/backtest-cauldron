{
 "cells": [
  {
   "cell_type": "markdown",
   "id": "313be772-f657-42e8-a99e-c9756ae28997",
   "metadata": {},
   "source": [
    "# Imports"
   ]
  },
  {
   "cell_type": "code",
   "execution_count": 1,
   "id": "ff9c8220-e0eb-4378-8019-5f4c4a88452e",
   "metadata": {},
   "outputs": [],
   "source": [
    "import ta\n",
    "import numpy as np\n",
    "from ta import add_all_ta_features\n",
    "import pandas as pd\n",
    "from ta.volatility import AverageTrueRange\n",
    "import upstox_client \n",
    "from __future__ import print_function\n",
    "import time\n",
    "from upstox_client.rest import ApiException\n",
    "from pprint import pprint"
   ]
  },
  {
   "cell_type": "markdown",
   "id": "bde1c9d6-62a6-4d1f-ae70-41b245ae99f5",
   "metadata": {},
   "source": [
    "# Main code"
   ]
  },
  {
   "cell_type": "code",
   "execution_count": 2,
   "id": "ad288c8c-8cc6-49fd-a52c-05d3cc137ab6",
   "metadata": {},
   "outputs": [],
   "source": [
    "# Function that returns the Heikin Ashi version of the data\n",
    "\n",
    "def heikinaashi(df):\n",
    "    new_df = []\n",
    "    open = (df.iloc[0]['Open']+df.iloc[0]['Close'])/2\n",
    "    close = (df.iloc[0]['Open']+df.iloc[0]['Close']+df.iloc[0]['High']+df.iloc[0]['Low'])/4\n",
    "    high = max(df.iloc[0]['High'], open, close)\n",
    "    low = max(df.iloc[0]['Low'], open, close)\n",
    "\n",
    "    new_df.append({\n",
    "        'Date':df.iloc[0]['Date'],\n",
    "        'Open':open,\n",
    "        'High':high,\n",
    "        'Low':low,\n",
    "        'Close':close      \n",
    "    })\n",
    "    \n",
    "    for i in range(1, len(df)):\n",
    "        open = (df.iloc[i-1]['Open']+df.iloc[i-1]['Close'])/2\n",
    "        close = (df.iloc[i]['Open']+df.iloc[i]['Close']+df.iloc[i]['High']+df.iloc[i]['Low'])/4\n",
    "        high = max(df.iloc[i]['High'], open, close)\n",
    "        low = max(df.iloc[i]['Low'], open, close)\n",
    "        new_df.append({\n",
    "            'Date':df.iloc[i]['Date'],\n",
    "            'Open':open,\n",
    "            'High':high,\n",
    "            'Low':low,\n",
    "            'Close':close        \n",
    "        })\n",
    "\n",
    "    new_df= pd.DataFrame(new_df, index=df.index)\n",
    "    return new_df        "
   ]
  },
  {
   "cell_type": "code",
   "execution_count": 3,
   "id": "4950c9d6-dce0-4cc1-bfc1-b0b5b00c0038",
   "metadata": {},
   "outputs": [],
   "source": [
    "# Function that returns values for ema 1, 2, and 3\n",
    "\n",
    "def ema_entries(df, ema1, ema2, ema3):\n",
    "    df['EMA'+str(ema1)] = df['Close'].ewm(span=ema1, adjust=False).mean()\n",
    "    df['EMA'+str(ema2)] = df['Close'].ewm(span=ema2, adjust=False).mean()\n",
    "    df['EMA'+str(ema3)] = df['Close'].ewm(span=ema3, adjust=False).mean()\n",
    "    return df"
   ]
  },
  {
   "cell_type": "code",
   "execution_count": 4,
   "id": "67ff3705-41dc-4fb2-b63e-4ca280cb767b",
   "metadata": {},
   "outputs": [],
   "source": [
    "def ema_satisfy(ema1, ema2, ema3):\n",
    "    if((ema1>ema2) & (ema2>ema3)):\n",
    "        return True\n",
    "    return False"
   ]
  },
  {
   "cell_type": "code",
   "execution_count": 5,
   "id": "320060c4-e4c1-4d5c-88b7-1d3d40e082f7",
   "metadata": {},
   "outputs": [],
   "source": [
    "# Function that adds a supertrend and direction column\n",
    "\n",
    "def superTrend(df, length, multiplier):\n",
    "    atr = AverageTrueRange(high = df['High'], low = df['Low'], close = df['Close'], window = length).average_true_range()\n",
    "    hl2 = (df['High'] + df['Low']) / 2\n",
    "    basicUpperBand = hl2 + (multiplier * atr)\n",
    "    basicLowerBand = hl2 - (multiplier * atr)\n",
    "\n",
    "    upperBand = [np.nan] * len(df)\n",
    "    lowerBand = [np.nan] * len(df)\n",
    "    superTrend = [np.nan] * len(df)\n",
    "    trendDirection = [False] * len(df)\n",
    "\n",
    "\n",
    "    for i in range(length, len(df)):\n",
    "        prev_upperBand = upperBand[i-1] if i>length else np.nan\n",
    "        prev_close = df.iloc[i-1]['Close']\n",
    "        prev_lowerBand = lowerBand[i-1] if i>length else np.nan\n",
    "        prev_superTrend = superTrend[i-1]\n",
    "\n",
    "        if(np.isnan(prev_upperBand) or (basicUpperBand[i] < prev_upperBand) or (prev_close > prev_upperBand) ):\n",
    "            upperBand[i] = basicUpperBand[i]\n",
    "        else:\n",
    "            upperBand[i] = prev_upperBand\n",
    "\n",
    "        if(np.isnan(prev_lowerBand) or basicLowerBand[i] > prev_lowerBand or prev_close < prev_lowerBand ):\n",
    "            lowerBand[i] = basicLowerBand[i]\n",
    "        else:\n",
    "            lowerBand[i] = prev_lowerBand\n",
    "\n",
    "        if np.isnan(prev_superTrend):\n",
    "            trendDirection[i] = False      \n",
    "        elif prev_superTrend == prev_upperBand:\n",
    "            trendDirection[i] = True if (df.iloc[i]['Close'] > upperBand[i]) else False\n",
    "        else:\n",
    "            trendDirection[i] = False if (df.iloc[i]['Close'] < lowerBand[i]) else True\n",
    "\n",
    "        superTrend[i] = lowerBand[i] if trendDirection[i] else upperBand[i]\n",
    "\n",
    "    df['SuperTrend'] = superTrend\n",
    "    df['SuperTrendDirection'] = trendDirection\n",
    "    return df        "
   ]
  },
  {
   "cell_type": "code",
   "execution_count": 6,
   "id": "0ce23385-1586-4961-9ecf-38f31bdbf6b4",
   "metadata": {},
   "outputs": [],
   "source": [
    "# Function that returns confirmation dates\n",
    "\n",
    "def confirmation(df, df_entries, confirmation_locs):\n",
    "    confirmation_points = []\n",
    "    for i in confirmation_locs:\n",
    "        while i<len(df):\n",
    "            if df.iloc[i]['Open'] < df.iloc[i]['Close']:\n",
    "                i += 1\n",
    "            else:\n",
    "                break\n",
    "                \n",
    "        while i<len(df):\n",
    "            if df.iloc[i]['Open'] > df.iloc[i]['Close']:\n",
    "                i += 1\n",
    "            else:\n",
    "                break\n",
    "        if i<len(df):\n",
    "            confirmation_points.append(df.iloc[i]['Date'])\n",
    "        else:\n",
    "            confirmation_points.append('None')\n",
    "\n",
    "        \n",
    "    df_entries['ConfirmationCandle'] = confirmation_points\n",
    "    return df_entries"
   ]
  },
  {
   "cell_type": "code",
   "execution_count": 7,
   "id": "107a298e-02e9-49e5-bc82-23c96d34aca6",
   "metadata": {},
   "outputs": [],
   "source": [
    "# Function that returns list of entry dates along with confirmation points\n",
    "\n",
    "def entry(instrument_key, ema1, ema2, ema3, length, multiplier, from_date, to_date):\n",
    "\n",
    "    api_instance = upstox_client.HistoryV3Api()\n",
    "    unit = 'days'\n",
    "    interval = 1 \n",
    "    \n",
    "    try:\n",
    "        api_response = api_instance.get_historical_candle_data1(instrument_key, unit, interval, to_date, from_date)\n",
    "    except ApiException as e:\n",
    "        print(\"Exception when calling HistoryV3Api->get_historical_candle_data1: %s\\n\" % e)\n",
    "\n",
    "    api_response.data.candles.reverse()\n",
    "    df = pd.DataFrame(data = api_response.data.candles, columns = ['Date', 'Open', 'High', 'Low', 'Close', 'Volume', 'Dividends'])    \n",
    "    df = df.drop(['Volume', 'Dividends'], axis=1)\n",
    "    df = ema_entries(df, ema1, ema2, ema3)\n",
    "    df = superTrend(df, length, multiplier)\n",
    "    df.to_csv(\"final.csv\")\n",
    "    entries = []\n",
    "    confirmation_locs = []\n",
    "    for i in range(1, len(df)):\n",
    "        if(ema_satisfy(df.iloc[i]['EMA9'], df.iloc[i]['EMA30'], df.iloc[i]['EMA100']) and not ema_satisfy(df.iloc[i-1]['EMA9'], df.iloc[i-1]['EMA30'], df.iloc[i-1]['EMA100']) and df.iloc[i]['SuperTrendDirection']==True):\n",
    "            entries.append(df.iloc[i])\n",
    "            confirmation_locs.append(i)\n",
    "            \n",
    "    df_entries = pd.DataFrame(entries)\n",
    "    df_entries.to_csv(\"entrypoints.csv\")\n",
    "\n",
    "    df_confirmation = confirmation(df, df_entries, confirmation_locs)\n",
    "    df_entries.to_csv(\"confirmationpoints.csv\")"
   ]
  },
  {
   "cell_type": "code",
   "execution_count": 8,
   "id": "f5840694-9487-46e1-9884-fc82f94520b5",
   "metadata": {},
   "outputs": [],
   "source": [
    "entry(\"NSE_EQ|INE002A01018\", 9, 30, 100, 10, 3, '2023-08-01', '2025-07-07')"
   ]
  },
  {
   "cell_type": "markdown",
   "id": "83ffc516-6423-4a0d-90db-2b8be96b3a8d",
   "metadata": {},
   "source": [
    "# Indices"
   ]
  },
  {
   "cell_type": "code",
   "execution_count": null,
   "id": "2693c600-7ae9-4112-a6f8-5b68cc28f934",
   "metadata": {},
   "outputs": [],
   "source": [
    "indices = {\n",
    "    'RELIANCE':'NSE_EQ|INE002A01018',\n",
    "    'HCLTECH':'NSE_EQ|INE860A01027',\n",
    "}"
   ]
  },
  {
   "cell_type": "code",
   "execution_count": 30,
   "id": "10ab8df8-b48d-4501-b29f-6d5016825a77",
   "metadata": {},
   "outputs": [
    {
     "name": "stdout",
     "output_type": "stream",
     "text": [
      "            instrument_key          isin\n",
      "45359  NSE_EQ|INE002A01018  INE002A01018\n"
     ]
    }
   ],
   "source": [
    "url = 'https://assets.upstox.com/market-quote/instruments/exchange/NSE.json.gz'\n",
    "df = pd.read_json(url, compression='gzip')\n",
    "result = df[(df['trading_symbol'] == 'RELIANCE') & (df['segment'] == 'NSE_EQ')]\n",
    "print(result[['instrument_key', 'isin']])"
   ]
  },
  {
   "cell_type": "code",
   "execution_count": null,
   "id": "056dee54-4d8f-4606-a979-23801cd42ce5",
   "metadata": {},
   "outputs": [],
   "source": []
  }
 ],
 "metadata": {
  "kernelspec": {
   "display_name": "Python 3 (ipykernel)",
   "language": "python",
   "name": "python3"
  },
  "language_info": {
   "codemirror_mode": {
    "name": "ipython",
    "version": 3
   },
   "file_extension": ".py",
   "mimetype": "text/x-python",
   "name": "python",
   "nbconvert_exporter": "python",
   "pygments_lexer": "ipython3",
   "version": "3.12.4"
  }
 },
 "nbformat": 4,
 "nbformat_minor": 5
}
